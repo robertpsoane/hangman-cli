{
 "metadata": {
  "language_info": {
   "codemirror_mode": {
    "name": "ipython",
    "version": 3
   },
   "file_extension": ".py",
   "mimetype": "text/x-python",
   "name": "python",
   "nbconvert_exporter": "python",
   "pygments_lexer": "ipython3",
   "version": "3.8.5-final"
  },
  "orig_nbformat": 2,
  "kernelspec": {
   "name": "Python 3.8.5 64-bit",
   "display_name": "Python 3.8.5 64-bit",
   "metadata": {
    "interpreter": {
     "hash": "4bff7fa039aac973483c1743bf6ad816d7d546b6b618d009c15de163eb6805ea"
    }
   }
  }
 },
 "nbformat": 4,
 "nbformat_minor": 2,
 "cells": [
  {
   "cell_type": "code",
   "execution_count": 21,
   "metadata": {},
   "outputs": [],
   "source": [
    "import json\n",
    "with open('word-dictionary-jr.json') as json_file:\n",
    "    data = json.load(json_file)"
   ]
  },
  {
   "cell_type": "code",
   "execution_count": 22,
   "metadata": {},
   "outputs": [],
   "source": [
    "words = [data['Words'][k]['Word'] for k in range(len(data['Words']))]"
   ]
  },
  {
   "cell_type": "code",
   "execution_count": 26,
   "metadata": {},
   "outputs": [
    {
     "output_type": "execute_result",
     "data": {
      "text/plain": "['------',\n 'a b c',\n 'a cappella',\n 'a cheval',\n 'a fortiori',\n 'a mensa et thoro',\n 'a posteriori',\n 'a priori',\n 'aam',\n 'aard-vark',\n 'aard-wolf',\n 'aaronic',\n 'aaronical',\n 'abaca',\n 'abacinate',\n 'abacination',\n 'abaciscus',\n 'abacist',\n 'aback',\n 'abactinal',\n 'abaction',\n 'abactor',\n 'abaculus',\n 'abacus',\n 'abada',\n 'abaddon',\n 'abaft',\n 'abaisance',\n 'abaiser',\n 'abaist',\n 'abalienate',\n 'abalienation',\n 'abalone',\n 'aband',\n 'abandon',\n 'abandoned',\n 'abandonedly',\n 'abandonee',\n 'abandoner',\n 'abandonment',\n 'abandum',\n 'abanet',\n 'abanga',\n 'abannation',\n 'abannition',\n 'abarticulation',\n 'abase',\n 'abased',\n 'abasedly',\n 'abasement',\n 'abaser',\n 'abash',\n 'abashedly',\n 'abashment',\n 'abasia',\n 'abassi',\n 'abassis',\n 'abatable',\n 'abate',\n 'abatement',\n 'abater',\n 'abatis',\n 'abatised',\n 'abator',\n 'abattis',\n 'abattoir',\n 'abature',\n 'abatvoix',\n 'abawed',\n 'abaxial',\n 'abaxile',\n 'abay',\n 'abb',\n 'abb wool',\n 'abba',\n 'abbacy',\n 'abbatial',\n 'abbatical',\n 'abbe',\n 'abbess',\n 'abbey',\n 'abbot',\n 'abbotship',\n 'abbreviate',\n 'abbreviated',\n 'abbreviation',\n 'abbreviator',\n 'abbreviatory',\n 'abbreviature',\n 'abdal',\n 'abderian',\n 'abderite',\n 'abdest',\n 'abdicable',\n 'abdicant',\n 'abdicate',\n 'abdication',\n 'abdicative',\n 'abdicator',\n 'abditive',\n 'abditory',\n 'abdomen',\n 'abdominal',\n 'abdominales',\n 'abdominalia',\n 'abdominoscopy',\n 'abdominothoracic',\n 'abdominous',\n 'abduce',\n 'abduct',\n 'abduction',\n 'abductor',\n 'abeam',\n 'abear',\n 'abearance',\n 'abearing',\n 'abecedarian',\n 'abecedary',\n 'abed',\n 'abegge',\n 'abele',\n 'abelian',\n 'abelite',\n 'abelmosk',\n 'abelonian',\n 'aber-de-vine',\n 'aberr',\n 'aberrance',\n 'aberrancy',\n 'aberrant',\n 'aberrate',\n 'aberration',\n 'aberrational',\n 'aberuncate',\n 'aberuncator',\n 'abet',\n 'abetment',\n 'abettal',\n 'abetter',\n 'abettor',\n 'abevacuation',\n 'abeyance',\n 'abeyancy',\n 'abeyant',\n 'abgeordnetenhaus',\n 'abhal',\n 'abhominable',\n 'abhominal',\n 'abhor',\n 'abhorrence',\n 'abhorrency',\n 'abhorrent',\n 'abhorrently',\n 'abhorrer',\n 'abhorrible',\n 'abhorring',\n 'abib',\n 'abidance',\n 'abide',\n 'abider',\n 'abiding',\n 'abidingly',\n 'abies',\n 'abietene',\n 'abietic',\n 'abietin',\n 'abietine',\n 'abietinic',\n 'abietite',\n 'abigail',\n 'abiliment',\n 'ability',\n 'abime',\n 'abiogenesis',\n 'abiogenetic',\n 'abiogenist',\n 'abiogenous',\n 'abiogeny',\n 'abiological',\n 'abirritant',\n 'abirritate',\n 'abirritation',\n 'abirritative',\n 'abit',\n 'abject',\n 'abjectedness',\n 'abjection',\n 'abjectly',\n 'abjectness',\n 'abjudge',\n 'abjudicate',\n 'abjudication',\n 'abjugate',\n 'abjunctive',\n 'abjuration',\n 'abjuratory',\n 'abjure',\n 'abjurement',\n 'abjurer',\n 'ablactate',\n 'ablactation',\n 'ablaqueate',\n 'ablaqueation',\n 'ablastemic',\n 'ablation',\n 'ablatitious',\n 'ablative',\n 'ablaut',\n 'ablaze',\n 'able',\n '-able',\n 'able-bodied',\n 'ablegate',\n 'ablegation',\n 'able-minded',\n 'ablen',\n 'ableness',\n 'ablepsy',\n 'abler',\n 'ablet',\n 'abligate',\n 'abligurition',\n 'ablins',\n 'abloom',\n 'ablude',\n 'abluent',\n 'ablush',\n 'ablution',\n 'ablutionary',\n 'abluvion',\n 'ably',\n '-ably',\n 'abnegate',\n 'abnegation',\n 'abnegative',\n 'abnegator',\n 'abnet',\n 'abnodate',\n 'abnodation',\n 'abnormal',\n 'abnormality',\n 'abnormally',\n 'abnormity',\n 'abnormous',\n 'aboard',\n 'abodance',\n 'abode',\n 'abodement',\n 'aboding',\n 'abolish',\n 'abolishable',\n 'abolisher',\n 'abolishment',\n 'abolition',\n 'abolitionism',\n 'abolitionist',\n 'abolitionize',\n 'aboma',\n 'abomasum',\n 'abomasus',\n 'abominable',\n 'abominableness',\n 'abominably',\n 'abominate',\n 'abomination',\n 'aboon',\n 'aboral',\n 'abord',\n 'aboriginal',\n 'aboriginality',\n 'aboriginally',\n 'aborigines',\n 'aborsement',\n 'aborsive',\n 'abort',\n 'aborted',\n 'aborticide',\n 'abortifacient',\n 'abortion',\n 'abortional',\n 'abortionist',\n 'abortive',\n 'abortively',\n 'abortiveness',\n 'abortment',\n 'abought',\n 'abound',\n 'about',\n 'about-sledge',\n 'above',\n 'aboveboard',\n 'above-cited',\n 'abovedeck',\n 'above-mentioned',\n 'above-named',\n 'abovesaid',\n 'abox',\n 'abra',\n 'abracadabra',\n 'abradant',\n 'abrade',\n 'abrahamic',\n 'abrahamitic',\n 'abrahamitical',\n 'abraham-man',\n 'abraid',\n 'abram-man',\n 'abranchial',\n 'abranchiata',\n 'abranchiate',\n 'abrase',\n 'abrasion',\n 'abrasive',\n 'abraum',\n 'abraum salts',\n 'abraxas',\n 'abray',\n 'abreaction',\n 'abreast',\n 'abregge',\n 'abrenounce',\n 'abrenunciation',\n 'abreption',\n 'abreuvoir',\n 'abricock',\n 'abridge',\n 'abridger',\n 'abridgment',\n 'abroach',\n 'abroad',\n 'abrogable',\n 'abrogate',\n 'abrogation',\n 'abrogative',\n 'abrogator',\n 'abrood',\n 'abrook',\n 'abrupt',\n 'abruption',\n 'abruptly',\n 'abruptness',\n 'abscess',\n 'abscession',\n 'abscind',\n 'abscision',\n 'absciss',\n 'abscissa',\n 'abscission',\n 'abscond',\n 'abscondence',\n 'absconder',\n 'absence',\n 'absent',\n 'absentaneous',\n 'absentation',\n 'absentee',\n 'absenteeism',\n 'absenter',\n 'absently',\n 'absentment',\n 'absent-minded',\n 'absentness',\n 'absey-book',\n 'absinth',\n 'absinthate',\n 'absinthe',\n 'absinthial',\n 'absinthian',\n 'absinthiate',\n 'absinthiated',\n 'absinthic',\n 'absinthin',\n 'absinthism',\n 'absinthium',\n 'absis',\n 'absist',\n 'absistence',\n 'absolute',\n 'absolutely',\n 'absoluteness',\n 'absolution',\n 'absolutism',\n 'absolutist',\n 'absolutistic',\n 'absolutory',\n 'absolvable',\n 'absolvatory',\n 'absolve',\n 'absolvent',\n 'absolver',\n 'absonant',\n 'absonous',\n 'absorb',\n 'absorbability',\n 'absorbable',\n 'absorbedly',\n 'absorbency',\n 'absorbent',\n 'absorber',\n 'absorbing',\n 'absorbition',\n 'absorpt',\n 'absorption',\n 'absorptive',\n 'absorptiveness',\n 'absorptivity',\n 'absquatulate',\n 'absque hoc',\n 'abstain',\n 'abstainer',\n 'abstemious',\n 'abstemiousness',\n 'abstention',\n 'abstentious',\n 'absterge',\n 'abstergent',\n 'absterse',\n 'abstersion',\n 'abstersive',\n 'abstersiveness',\n 'abstinence',\n 'abstinency',\n 'abstinent',\n 'abstinently',\n 'abstorted',\n 'abstract',\n 'abstracted',\n 'abstractedly',\n 'abstractedness',\n 'abstracter',\n 'abstraction',\n 'abstractional',\n 'abstractionist',\n 'abstractitious',\n 'abstractive',\n 'abstractively',\n 'abstractiveness',\n 'abstractly',\n 'abstractness',\n 'abstringe',\n 'abstrude',\n 'abstruse',\n 'abstrusely',\n 'abstruseness',\n 'abstrusion',\n 'abstrusity',\n 'absume',\n 'absumption',\n 'absurd',\n 'absurdity',\n 'absurdly',\n 'absurdness',\n 'abuna',\n 'abundance',\n 'abundant',\n 'abundantly',\n 'aburst',\n 'abusable',\n 'abusage',\n 'abuse',\n 'abuseful',\n 'abuser',\n 'abusion',\n 'abusive',\n 'abusively',\n 'abusiveness',\n 'abut',\n 'abutilon',\n 'abutment',\n 'abuttal',\n 'abutter',\n 'abuzz',\n 'aby',\n 'abye',\n 'abyme',\n 'abysm',\n 'abysmal',\n 'abysmally',\n 'abyss',\n 'abyssal',\n 'abyssinian',\n 'acacia',\n 'acacin',\n 'acacine',\n 'academe',\n 'academial',\n 'academian',\n 'academic',\n 'academical',\n 'academically',\n 'academicals',\n 'academician',\n 'academicism',\n 'academism',\n 'academist',\n 'academy',\n 'acadian',\n 'acajou',\n 'acaleph',\n 'acalephae',\n 'acalephan',\n 'acalephoid',\n 'acalycine',\n 'acalysinous',\n 'acanth',\n 'acantha',\n 'acanthaceous',\n 'acanthine',\n 'acanthocarpous',\n 'acanthocephala',\n 'acanthocephalous',\n 'acanthophorous',\n 'acanthopodious',\n 'acanthopteri',\n 'acanthopterous',\n 'acanthopterygian',\n 'acanthopterygii',\n 'acanthopterygious',\n 'acanthus',\n 'acapsular',\n 'acardiac',\n 'acaridan',\n 'acarina',\n 'acarine',\n 'acaroid',\n 'acarpellous',\n 'acarpous',\n 'acarus',\n 'acatalectic',\n 'acatalepsy',\n 'acataleptic',\n 'acater',\n 'acates',\n 'acaudate',\n 'acaulescent',\n 'acauline',\n 'acaulose',\n 'acaulous',\n 'accadian',\n 'accede',\n 'accedence',\n 'acceder',\n 'accelerando',\n 'accelerate',\n 'acceleration',\n 'accelerative',\n 'accelerator',\n 'acceleratory',\n 'accelerograph',\n 'accelerometer',\n 'accend',\n 'accendibility',\n 'accendible',\n 'accension',\n 'accensor',\n 'accent',\n 'accentless',\n 'accentor',\n 'accentuable',\n 'accentual',\n 'accentuality',\n 'accentually',\n 'accentuate',\n 'accentuation',\n 'accept',\n 'acceptability',\n 'acceptable',\n 'acceptableness',\n 'acceptably',\n 'acceptance',\n 'acceptancy',\n 'acceptant',\n 'acceptation',\n 'acceptedly',\n 'accepter',\n 'acceptilation',\n 'acception',\n 'acceptive',\n 'acceptor',\n 'access',\n 'accessarily',\n 'accessariness',\n 'accessary',\n 'accessibility',\n 'accessible',\n 'accessibly',\n 'accession',\n 'accessional',\n 'accessive',\n 'accessorial',\n 'accessorily',\n 'accessoriness',\n 'accessory',\n 'acciaccatura',\n 'accidence',\n 'accident',\n 'accidental',\n 'accidentalism',\n 'accidentality',\n 'accidentally',\n 'accidentalness',\n 'accidie',\n 'accipenser',\n 'accipient',\n 'accipiter',\n 'accipitral',\n 'accipitres',\n 'accipitrine',\n 'accismus',\n 'accite',\n 'acclaim',\n 'acclaimer',\n 'acclamation',\n 'acclamatory',\n 'acclimatable',\n 'acclimatation',\n 'acclimate',\n 'acclimatement',\n 'acclimation',\n 'acclimatizable',\n 'acclimatization',\n 'acclimatize',\n 'acclimature',\n 'acclive',\n 'acclivitous',\n 'acclivity',\n 'acclivous',\n 'accloy',\n 'accoast',\n 'accoil',\n 'accolade',\n 'accombination',\n 'accommodable',\n 'accommodableness',\n 'accommodate',\n 'accommodately',\n 'accommodateness',\n 'accommodating',\n 'accommodation',\n 'accommodator',\n 'accompanable',\n 'accompanier',\n 'accompaniment',\n 'accompanist',\n 'accompany',\n 'accompletive',\n 'accomplice',\n 'accompliceship',\n 'accomplicity',\n 'accomplish',\n 'accomplishable',\n 'accomplished',\n 'accomplisher',\n 'accomplishment',\n 'accompt',\n 'accomptable',\n 'accomptant',\n 'accord',\n 'accordable',\n 'accordance',\n 'accordancy',\n 'accordant',\n 'accordantly',\n 'accorder',\n 'according',\n 'accordingly',\n 'accordion',\n 'accordionist',\n 'accordment',\n 'accorporate',\n 'accost',\n 'accostable',\n 'accosted',\n 'accouchement',\n 'accoucheur',\n 'accoucheuse',\n 'account',\n 'account book',\n 'accountability',\n 'accountable',\n 'accountableness',\n 'accountably',\n 'accountancy',\n 'accountant',\n 'accountantship',\n 'accouple',\n 'accouplement',\n 'accourage',\n 'accourt',\n 'accouter',\n 'accouterments',\n 'accoutre',\n 'accoutrements',\n 'accoy',\n 'accredit',\n 'accreditation',\n 'accrementitial',\n 'accrementition',\n 'accresce',\n 'accrescence',\n 'accrescent',\n 'accrete',\n 'accretion',\n 'accretive',\n 'accriminate',\n 'accroach',\n 'accroachment',\n 'accrual',\n 'accrue',\n 'accruer',\n 'accrument',\n 'accubation',\n 'accumb',\n 'accumbency',\n 'accumbent',\n 'accumber',\n 'accumulate',\n 'accumulation',\n 'accumulative',\n 'accumulator',\n 'accuracy',\n 'accurate',\n 'accurately',\n 'accurateness',\n 'accurse',\n 'accursed',\n 'accurst',\n 'accusable',\n 'accusal',\n 'accusant',\n 'accusation',\n 'accusatival',\n 'accusative',\n 'accusatively',\n 'accusatorial',\n 'accusatorially',\n 'accusatory',\n 'accuse',\n 'accused',\n 'accusement',\n 'accuser',\n 'accusingly',\n 'accustom',\n 'accustomable',\n 'accustomably',\n 'accustomance',\n 'accustomarily',\n 'accustomary',\n 'accustomed',\n 'accustomedness',\n 'ace',\n 'aceldama',\n 'acentric',\n 'acephal',\n 'acephala',\n 'acephalan',\n 'acephali',\n 'acephalist',\n 'acephalocyst',\n 'acephalocystic',\n 'acephalous',\n 'acequia',\n 'acerate',\n 'acerb',\n 'acerbate',\n 'acerbic',\n 'acerbitude',\n 'acerbity',\n 'aceric',\n 'acerose',\n 'acerous',\n 'acerval',\n 'acervate',\n 'acervation',\n 'acervative',\n 'acervose',\n 'acervuline',\n 'acescence',\n 'acescency',\n 'acescent',\n 'acetable',\n 'acetabular',\n 'acetabulifera',\n 'acetabuliferous',\n 'acetabuliform',\n 'acetabulum',\n 'acetal',\n 'acetaldehyde',\n 'acetamide',\n 'acetanilide',\n 'acetarious',\n 'acetary',\n 'acetate',\n 'acetated',\n 'acetic',\n 'acetification',\n 'acetifier',\n 'acetify',\n 'acetimeter',\n 'acetimetry',\n 'acetin',\n 'acetize',\n 'acetol',\n 'acetometer',\n 'acetonaemia',\n 'acetone',\n 'acetonemia',\n 'acetonic',\n 'acetonuria',\n 'acetophenone',\n 'acetose',\n 'acetosity',\n 'acetous',\n 'acetyl',\n 'acetylene',\n 'ach',\n 'achaean',\n 'achaian',\n 'acharnement',\n 'achate',\n 'achatina',\n 'achatour',\n 'ache',\n 'achean',\n 'achene',\n 'achenial',\n 'achenium',\n 'acheron',\n 'acherontic',\n 'achievable',\n 'achievance',\n 'achieve',\n 'achievement',\n 'achiever',\n 'achillean',\n 'achilous',\n 'aching',\n 'achiote',\n 'achlamydate',\n 'achlamydeous',\n 'acholia',\n 'acholous',\n 'achromatic',\n 'achromatically',\n 'achromaticity',\n 'achromatin',\n 'achromatism',\n 'achromatization',\n 'achromatize',\n 'achromatopsy',\n 'achromatous',\n 'achromic',\n 'achronic',\n 'achroodextrin',\n 'achrooedextrin',\n 'achroous',\n 'achrophony',\n 'achylous',\n 'achymous',\n 'acicula',\n 'acicular',\n 'aciculate',\n 'aciculated',\n 'aciculiform',\n 'aciculite',\n 'acid',\n 'acid process',\n 'acidic',\n 'acidiferous',\n 'acidifiable',\n 'acidific',\n 'acidification',\n 'acidifier',\n 'acidify',\n 'acidimeter',\n 'acidimetry',\n 'acidity',\n 'acidly',\n 'acidness',\n 'acidulate',\n 'acidulent',\n 'acidulous',\n 'acierage',\n 'aciform',\n 'acinaceous',\n 'acinaces',\n 'acinaciform',\n 'acinesia',\n 'acinetae',\n 'acinetiform',\n 'aciniform',\n 'acinose',\n 'acinous',\n 'acinus',\n 'acipenser',\n 'aciurgy',\n 'acknow',\n 'acknowledge',\n 'acknowledgedly',\n 'acknowledger',\n 'acknowledgment',\n 'aclinic',\n 'acme',\n 'acne',\n 'acnodal',\n 'acnode',\n 'acock',\n 'acockbill',\n 'acold',\n 'acologic',\n 'acology',\n 'acolothist',\n 'acolyctine',\n 'acolyte',\n 'acolyth',\n 'acolythist',\n 'aconddylose',\n 'acondylous',\n 'aconital',\n 'aconite',\n 'aconitia',\n 'aconitic',\n 'aconitine',\n 'aconitum',\n 'acontia',\n 'acontias',\n 'acopic',\n 'acorn',\n 'acorn cup',\n 'acorned',\n 'acorn-shell',\n 'acosmism',\n 'acosmist',\n 'acotyledon',\n 'acotyledonous',\n 'acouchy',\n 'acoumeter',\n 'acoumetry',\n 'acoustic',\n 'acoustical',\n 'acoustically',\n 'acoustician',\n 'acoustics',\n 'acquaint',\n 'acquaintable',\n 'acquaintance',\n 'acquaintanceship',\n 'acquaintant',\n 'acquainted',\n 'acquaintedness',\n 'acquest',\n 'acquiesce',\n 'acquiescence',\n 'acquiescency',\n 'acquiescent',\n 'acquiescently',\n 'acquiet',\n 'acquirability',\n 'acquirable',\n 'acquire',\n 'acquirement',\n 'acquirer',\n 'acquiry',\n 'acquisite',\n 'acquisition',\n 'acquisitive',\n 'acquisitively',\n 'acquisitiveness',\n 'acquisitor',\n 'acquist',\n 'acquit',\n 'acquitment',\n 'acquittal',\n 'acquittance',\n 'acquitter',\n 'acrania',\n 'acranial',\n 'acrase',\n 'acrasia',\n 'acraspeda',\n 'acrasy',\n 'acraze',\n 'acre',\n 'acreable',\n 'acreage',\n 'acred',\n 'acrid',\n 'acridity',\n 'acridly',\n 'acridness',\n 'acrimonious',\n 'acrimoniously',\n 'acrimoniousness',\n 'acrimony',\n 'acrisia',\n 'acrisy',\n 'acrita',\n 'acritan',\n 'acrite',\n 'acritical',\n ...]"
     },
     "metadata": {},
     "execution_count": 26
    }
   ],
   "source": [
    "new_word_list = []\n",
    "for word in words:\n",
    "    if len(word) > 2:\n",
    "        new_word_list.append(word)\n",
    "new_word_list"
   ]
  },
  {
   "cell_type": "code",
   "execution_count": 27,
   "metadata": {},
   "outputs": [],
   "source": [
    "words = new_word_list\n",
    "new_word_list = []\n",
    "alphabet = ['a','b','c','d','e','f','g','h','i','j','k','l','m','n','o','p','q','r','s','t','u','v','w','x','y','z']\n",
    "\n",
    "for word in words:\n",
    "    valid = True\n",
    "    for letter in word:\n",
    "        if letter in alphabet:\n",
    "            pass\n",
    "        else:\n",
    "            valid = False\n",
    "    if valid == True:\n",
    "        new_word_list.append(word)"
   ]
  },
  {
   "source": [
    "# Loading popular words"
   ],
   "cell_type": "markdown",
   "metadata": {}
  },
  {
   "cell_type": "code",
   "execution_count": 38,
   "metadata": {},
   "outputs": [],
   "source": [
    "popular = open('popular_words.txt').readlines()\n",
    "popular = [word[:-1]  for word in popular]\n",
    "\n",
    "easy = popular"
   ]
  },
  {
   "cell_type": "code",
   "execution_count": 46,
   "metadata": {},
   "outputs": [],
   "source": [
    "hard = []\n",
    "for word in new_word_list:\n",
    "    if (word in easy) == False:\n",
    "        hard.append(word)"
   ]
  },
  {
   "cell_type": "code",
   "execution_count": 53,
   "metadata": {},
   "outputs": [],
   "source": [
    "new_easy = easy\n",
    "easy = []\n",
    "for word in new_easy:\n",
    "    if len(word) > 2:\n",
    "        easy.append(word)"
   ]
  },
  {
   "cell_type": "code",
   "execution_count": 54,
   "metadata": {},
   "outputs": [
    {
     "output_type": "execute_result",
     "data": {
      "text/plain": "972"
     },
     "metadata": {},
     "execution_count": 54
    }
   ],
   "source": []
  },
  {
   "cell_type": "code",
   "execution_count": null,
   "metadata": {},
   "outputs": [],
   "source": []
  },
  {
   "cell_type": "code",
   "execution_count": 55,
   "metadata": {},
   "outputs": [],
   "source": [
    "hard_json = {\n",
    "    'words': hard,\n",
    "    'n_words':len(hard)\n",
    "}\n",
    "\n",
    "output_json = json.dumps(hard_json)\n",
    "\n",
    "new_json = open(\"hard_words.json\",\"w\").write(output_json)"
   ]
  },
  {
   "cell_type": "code",
   "execution_count": 56,
   "metadata": {},
   "outputs": [],
   "source": [
    "easy_json = {\n",
    "    'words': easy,\n",
    "    'n_words':len(easy)\n",
    "}\n",
    "\n",
    "output_json = json.dumps(easy_json)\n",
    "\n",
    "new_json = open(\"easy_words.json\",\"w\").write(output_json)"
   ]
  },
  {
   "cell_type": "code",
   "execution_count": null,
   "metadata": {},
   "outputs": [],
   "source": []
  }
 ]
}